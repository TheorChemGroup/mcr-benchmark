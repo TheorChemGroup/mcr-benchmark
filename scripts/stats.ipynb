{
 "cells": [
  {
   "cell_type": "code",
   "execution_count": null,
   "metadata": {},
   "outputs": [],
   "source": [
    "import os\n",
    "import pandas as pd\n",
    "import numpy as np\n",
    "from icecream import install\n",
    "install()\n",
    "\n",
    "BASE_DIR = '/s/ls4/users/knvvv/jcim'"
   ]
  },
  {
   "cell_type": "markdown",
   "metadata": {},
   "source": [
    "### with the closest competitor, ETKDG, being ??? times slower on average"
   ]
  },
  {
   "cell_type": "code",
   "execution_count": null,
   "metadata": {},
   "outputs": [],
   "source": [
    "timings_paths = {\n",
    "    'ten-all': os.path.join(BASE_DIR, 'project_data/timings_analysis_backup/dataframes/basic_mmff_basic-final-all_df.csv'),\n",
    "    'ten-low': os.path.join(BASE_DIR, 'project_data/timings_analysis_backup/dataframes/basic_mmff_basic-final-low_df.csv'),\n",
    "    'full': os.path.join(BASE_DIR, 'project_data/timings_analysis_backup/dataframes/basic_mmff_basic-doublelog_df.csv'),\n",
    "}\n",
    "\n",
    "for name, df_path in timings_paths.items():\n",
    "    df = pd.read_csv(df_path, sep=';')\n",
    "    df = df[(df['time_per_conf'] != np.inf) & (df['refmethod_time_per_conformer'] != np.inf)]\n",
    "    df['accel'] = df['time_per_conf'] / df['refmethod_time_per_conformer']\n",
    "    accel_df = df.groupby(['method', 'relenergy_threshold'])['accel'].mean().reset_index()\n",
    "    ic(accel_df)\n"
   ]
  },
  {
   "cell_type": "markdown",
   "metadata": {},
   "source": [
    "#### at least one low-energy (<15 kcal/mol) conformation per 10 seconds in cases of ??? molecules "
   ]
  },
  {
   "cell_type": "code",
   "execution_count": null,
   "metadata": {},
   "outputs": [],
   "source": [
    "dof_timing_path = os.path.join(BASE_DIR, 'project_data/timings_analysis/dataframes/basic_mmff_basicdoftrash-low_df.csv')\n",
    "df = pd.read_csv(dof_timing_path, sep=';')\n",
    "df = df[df['time_per_conf'] != np.inf]\n",
    "fast_df = df[df['time_per_conf'] < 30.0].groupby(['method']).size()\n",
    "ic(fast_df)\n",
    "\n",
    "slow_df = df[(df['time_per_conf'] > 30.0)].groupby(['method'])['num_dofs'].mean()\n",
    "ic(slow_df)\n"
   ]
  },
  {
   "cell_type": "markdown",
   "metadata": {},
   "source": [
    "#### being ?? times faster than MCS and ??? times faster than CREST!"
   ]
  },
  {
   "cell_type": "code",
   "execution_count": null,
   "metadata": {},
   "outputs": [],
   "source": [
    "df_path = os.path.join(BASE_DIR, 'project_data/timings_analysis/dataframes/basic_mmff_basic-final-all_df.csv')\n",
    "\n",
    "df = pd.read_csv(df_path, sep=';')\n",
    "df['accel'] = df['time'] / df['refmethod_time']\n",
    "df = df[['method', 'testcase', 'accel']]\n",
    "ic(df)\n",
    "\n",
    "# accel_df = df.groupby(['method', 'testcase'])['time']\n"
   ]
  },
  {
   "cell_type": "code",
   "execution_count": null,
   "metadata": {},
   "outputs": [],
   "source": []
  }
 ],
 "metadata": {
  "kernelspec": {
   "display_name": "Python 3",
   "language": "python",
   "name": "python3"
  },
  "language_info": {
   "codemirror_mode": {
    "name": "ipython",
    "version": 3
   },
   "file_extension": ".py",
   "mimetype": "text/x-python",
   "name": "python",
   "nbconvert_exporter": "python",
   "pygments_lexer": "ipython3",
   "version": "3.12.1"
  }
 },
 "nbformat": 4,
 "nbformat_minor": 2
}
